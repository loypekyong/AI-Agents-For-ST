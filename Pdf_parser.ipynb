{
 "cells": [
  {
   "cell_type": "code",
   "execution_count": null,
   "metadata": {},
   "outputs": [],
   "source": [
    "file_path = \"C:/Users/loype/OneDrive - Singapore University of Technology and Design/Term 7/Capstone/ST-Engineering-1H2024-Results-Financial-Statements.pdf\""
   ]
  },
  {
   "cell_type": "code",
   "execution_count": 7,
   "metadata": {},
   "outputs": [],
   "source": [
    "\n",
    "from langchain_community.document_loaders import PyPDFLoader\n",
    "\n",
    "loader = PyPDFLoader(file_path)\n",
    "pages = []\n",
    "async for page in loader.alazy_load():\n",
    "    pages.append(page)"
   ]
  },
  {
   "cell_type": "code",
   "execution_count": 21,
   "metadata": {},
   "outputs": [
    {
     "name": "stdout",
     "output_type": "stream",
     "text": [
      "27\n",
      " \n",
      " \n",
      " \n",
      " \n",
      " \n",
      "Page 1 of 26 \n",
      " \n",
      "                                                               SINGAPORE TECHNOLOGIES ENGINEERING LTD  \n",
      "UNAUDITED RESULTS FOR THE FIRST HALF -YEAR  ENDED 30 JUNE 202 4 \n",
      " \n",
      "1 CONSOLIDATED INCOME STATEMENT FOR THE FIRST HALF -YEAR  ENDED 30 JUNE 202 4 \n",
      " \n",
      " \n",
      "NM: Not Meaningful  \n",
      " \n",
      "Note :   \n",
      "   Amounts may not add to totals shown d ue to rounding  \n",
      "  \n",
      "1H2024 1H2023 +/(-)\n",
      "$'000 $'000 %\n",
      "Revenue 5,520,394   4,863,416   13.5\n",
      "Cost of sales (4,467,499)  (3,883,004)  15.1\n",
      "Gross profit 1,052,895   980,412      7.4\n",
      "Distribution and selling expenses (refer to para 1.6) (104,584)     (103,469)     1.1\n",
      "Administrative expenses (refer to para 1.7) (385,900)     (359,368)     7.4\n",
      "Other operating expenses (refer to para 1.8) (86,238)       (83,504)       3.3\n",
      "Other income/ (expenses), net (refer to para 1.9) 8,382           (13,250)       NM\n",
      "Profit from operations 484,555      420,821      15.1\n",
      "Non-operating expenses, net (59)               (202)             (70.8)\n",
      "Share of results of associates and joint ventures, net of tax  \n",
      "(refer to para 1.10) 38,426        23,553        63.1\n",
      "Earnings before interest and tax (refer to para 1.1) 522,922      444,172      17.7\n",
      "Finance income 26,297        34,384        (23.5)\n",
      "Finance costs (132,748)     (127,167)     4.4\n",
      "Finance costs, net (refer to para 1.2) (106,451)     (92,783)       14.7\n",
      "Profit before taxation 416,471      351,389      18.5\n",
      "Taxation (68,273)       (66,034)       3.4\n",
      "Profit after taxation 348,198      285,355      22.0\n",
      "Attributable to:\n",
      "Shareholders of the Company 336,528      280,617      19.9\n",
      "Non-controlling interests 11,670        4,738           146.3\n",
      "348,198      285,355      22.0\n",
      "EBITDA 786,145 710,537 10.6GROUP \n",
      "{'source': 'C:/Users/loype/OneDrive - Singapore University of Technology and Design/Term 7/Capstone/ST-Engineering-1H2024-Results-Financial-Statements.pdf', 'page': 1}\n"
     ]
    }
   ],
   "source": [
    "print(len(pages))\n",
    "print(pages[1].page_content)\n",
    "print(pages[1].metadata)"
   ]
  },
  {
   "cell_type": "code",
   "execution_count": null,
   "metadata": {},
   "outputs": [],
   "source": []
  }
 ],
 "metadata": {
  "kernelspec": {
   "display_name": "Python 3",
   "language": "python",
   "name": "python3"
  },
  "language_info": {
   "codemirror_mode": {
    "name": "ipython",
    "version": 3
   },
   "file_extension": ".py",
   "mimetype": "text/x-python",
   "name": "python",
   "nbconvert_exporter": "python",
   "pygments_lexer": "ipython3",
   "version": "3.11.9"
  }
 },
 "nbformat": 4,
 "nbformat_minor": 2
}
