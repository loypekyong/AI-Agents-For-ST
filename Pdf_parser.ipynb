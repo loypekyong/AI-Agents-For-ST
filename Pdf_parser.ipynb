{
 "cells": [
  {
   "cell_type": "code",
   "execution_count": 2,
   "metadata": {},
   "outputs": [
    {
     "name": "stdout",
     "output_type": "stream",
     "text": [
      "/home/user/AI-Agents-For-ST/dsRAG/Dataset\n",
      "USS_Satcom_Gilat_2022\n",
      "USS_Satcom_Comtech_2022\n",
      "USS_Satcom_Comtech_2021\n",
      "USS_Satcom_Viasat_2023\n",
      "USS_Satcom_Gilat_2021\n",
      "USS_Satcom_Echostar_2021\n",
      "USS_Satcom_Viasat_2022\n",
      "USS_Satcom_Echostar_2022\n"
     ]
    }
   ],
   "source": [
    "import os\n",
    "import sys\n",
    "\n",
    "current_path = os.getcwd()\n",
    "current_path = os.path.join(current_path, 'Dataset')\n",
    "print(current_path)\n",
    "folder_com = os.path.join(current_path, 'Commercial Aero')\n",
    "folder_uss = os.path.join(current_path, 'USS')\n",
    "\n",
    "def get_file_as_id(folder_path):\n",
    "    if not os.path.exists(folder_path):\n",
    "        return ValueError\n",
    "    folder_name = folder_path.split('/')[-1]\n",
    "    id = folder_name.split('.')[0]\n",
    "\n",
    "    return id\n",
    "\n",
    "for file in os.listdir(folder_uss):\n",
    "    print(get_file_as_id(os.path.join(folder_uss, file)))\n",
    "    "
   ]
  },
  {
   "cell_type": "code",
   "execution_count": 26,
   "metadata": {},
   "outputs": [
    {
     "name": "stdout",
     "output_type": "stream",
     "text": [
      "Adding 990 chunks to the database\n",
      "Adding 792 chunks to the database\n",
      "Adding 777 chunks to the database\n",
      "Adding 485 chunks to the database\n",
      "Adding 941 chunks to the database\n",
      "Adding 667 chunks to the database\n",
      "Adding 504 chunks to the database\n",
      "Adding 691 chunks to the database\n"
     ]
    }
   ],
   "source": [
    "from dsrag.knowledge_base import KnowledgeBase\n",
    "from dsrag.llm import OpenAIChatAPI\n",
    "from dsrag.reranker import NoReranker\n",
    "\n",
    "from dsrag.database.vector.chroma_db import ChromaDB\n",
    "from dsrag.document_parsing import extract_text_from_pdf\n",
    "\n",
    "llm = OpenAIChatAPI(model='gpt-4o-mini')\n",
    "\n",
    "#create knowledge base\n",
    "kb_dict = {}\n",
    "\n",
    "def setup_kb(folder_path):   \n",
    "    for file in os.listdir(folder_path):\n",
    "        file_path = os.path.join(folder_path, file)\n",
    "        if file.endswith('.pdf'):\n",
    "            id = get_file_as_id(file_path)\n",
    "            kb_dict[id] = KnowledgeBase(id, reranker = NoReranker(), vector_db=ChromaDB(id), storage_directory=\"~/AI-Agents-For-ST/dsRAG/storage\")\n",
    "            text = extract_text_from_pdf(file_path)\n",
    "            kb_dict[id].add_document(doc_id=id, text=text[0])\n",
    "            \n",
    "            \n",
    "setup_kb(folder_uss)\n"
   ]
  },
  {
   "cell_type": "code",
   "execution_count": null,
   "metadata": {},
   "outputs": [],
   "source": [
    "kb_dict = {}\n",
    "\n",
    "def setup_kb(folder_path):   \n",
    "    for file in os.listdir(folder_path):\n",
    "        file_path = os.path.join(folder_path, file)\n",
    "        if file.endswith('.pdf'):\n",
    "            id = get_file_as_id(file_path)\n",
    "            kb_dict[id] = KnowledgeBase(id, reranker = NoReranker(), vector_db=ChromaDB(id), storage_directory=\"~/AI-Agents-For-ST/dsRAG/storage\")\n",
    "            \n",
    "            \n",
    "for folder in [folder_com, folder_uss]:\n",
    "    setup_kb(folder)"
   ]
  }
 ],
 "metadata": {
  "kernelspec": {
   "display_name": ".venv",
   "language": "python",
   "name": "python3"
  },
  "language_info": {
   "codemirror_mode": {
    "name": "ipython",
    "version": 3
   },
   "file_extension": ".py",
   "mimetype": "text/x-python",
   "name": "python",
   "nbconvert_exporter": "python",
   "pygments_lexer": "ipython3",
   "version": "3.10.12"
  }
 },
 "nbformat": 4,
 "nbformat_minor": 2
}
